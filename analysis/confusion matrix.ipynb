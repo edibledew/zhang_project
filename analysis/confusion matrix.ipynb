import pandas as pd
import numpy as np
import matplotlib.pyplot as plt
import seaborn as sns
from sklearn.model_selection import train_test_split
from sklearn.ensemble import RandomForestClassifier
from sklearn.metrics import confusion_matrix, classification_report

exercise = pd.read_csv("data_encoded_adjust_removenone _03.csv")

X = exercise.drop(columns=['class'])
y = exercise['class']

X_train, X_test, y_train, y_test = train_test_split(X, y, test_size=0.2, random_state=0)

model = RandomForestClassifier(random_state=0)
model.fit(X_train, y_train)

y_pred = model.predict(X_test)

labels = [1, 2, 3, 4]
cm = confusion_matrix(y_test, y_pred, labels=labels)

plt.figure(figsize=(8,6))
sns.heatmap(cm, annot=True, fmt='d', cmap='Blues', 
            xticklabels=['L1', 'L2', 'L3', 'L4'], 
            yticklabels=['L1', 'L2', 'L3', 'L4'])
plt.xlabel("Predicted Label")
plt.ylabel("True Label")
plt.title("Confusion Matrix - Catalyst Yield Classification")
plt.show()

print("\nClassification Report:")
print(classification_report(y_test, y_pred, target_names=['L1', 'L2', 'L3', 'L4']))
