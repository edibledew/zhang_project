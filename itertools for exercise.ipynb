{
 "cells": [
  {
   "cell_type": "code",
   "execution_count": 1,
   "id": "917d5ad4",
   "metadata": {},
   "outputs": [
    {
     "name": "stdout",
     "output_type": "stream",
     "text": [
      "ListS: ['S2_ZnTe', 'S1_SiC', 'S1_BaLa4Ti4O15', 'S2_CeO2', 'S1_Zn2Ti3O8', 'S1_Fe2O3', 'S1_CdS', 'S1_PbBiO2Br', 'S1_TaON', 'S2_SiO2', 'S1_C3N4', 'S1_ZnGa2O4', 'S1_CeO2', 'S1_Ta2O5', 'S2_Cu2O', 'S1_NiO', 'S1_BP', 'S2_WO3', 'S2_CdS', 'S1_ZnTe', 'S1_CaFe2O4', 'S2_NiO', 'S1_ZnS', 'S1_SrTiO3', 'S1_SrNb2O6', 'S1_BiVO4', 'S2_Ag', 'S1_TiO2', 'S1_lnTaO4', 'S2_ZnTiO3', 'S1_ZrO2', 'S1_ZnO', 'S2_Fe2O3', 'S2_No']\n",
      "ListC: ['C2_No', 'C1_Bi2S3', 'C1_Ru', 'C1_Eu', 'C1_ln2O3', 'C1_MgO', 'C1_CuO', 'C1_Cu', 'C2_Fe', 'C1_No', 'C1_Au', 'C1_Cr', 'C1_V', 'C1_AgBr', 'C1_Co', 'C1_Pt', 'C1_Pd', 'C1_Ag', 'C2_Cu', 'C1_NiO']\n",
      "Total number of combinations: 2203200\n",
      "Saved as exercise03_comb.csv\n"
     ]
    }
   ],
   "source": [
    "import pandas as pd\n",
    "import numpy as np\n",
    "import itertools\n",
    "\n",
    "data_file = \"data_exercise03.csv\"\n",
    "output_file = \"exercise03_comb.csv\"\n",
    "\n",
    "data = pd.read_csv(data_file)\n",
    "\n",
    "listS = list(set(data.columns[data.columns.str.startswith(\"S1_\")].tolist() +\n",
    "                 data.columns[data.columns.str.startswith(\"S2_\")].tolist()))\n",
    "listC = list(set(data.columns[data.columns.str.startswith(\"C1_\")].tolist() +\n",
    "                 data.columns[data.columns.str.startswith(\"C2_\")].tolist()))\n",
    "\n",
    "print(\"ListS:\", listS)\n",
    "print(\"ListC:\", listC)\n",
    "\n",
    "phase_combinations = [\n",
    "    {\"Phase_Gas\": 1, \"Phase_Liquid\": 0},\n",
    "    {\"Phase_Gas\": 0, \"Phase_Liquid\": 1}\n",
    "]\n",
    "\n",
    "additive_combinations = [\n",
    "    {col: int(i == idx) for idx, col in enumerate([\n",
    "        \"Additive_C3H8O\", \"Additive_CH3CN\", \"Additive_H2SO4\", \"Additive_K2CO3\",\n",
    "        \"Additive_KHCO3\", \"Additive_Na2CO3\", \"Additive_NaHCO3\", \"Additive_NaOH\", \n",
    "        \"Additive_None\"\n",
    "    ])}\n",
    "    for i in range(9)\n",
    "]\n",
    "\n",
    "temperature = [round(x, 2) for x in np.linspace(293, 493, 6)]\n",
    "pressure = [1]\n",
    "mf_ratio = [0, 1, 30, 45, 95]\n",
    "c_temperature = [round(x, 2) for x in np.linspace(298, 1400, 6)]\n",
    "\n",
    "all_combinations = []\n",
    "\n",
    "for temp, pres, mf, c_temp, phase_comb, additive_comb, c, s in itertools.product(\n",
    "        temperature, pressure, mf_ratio, c_temperature, phase_combinations, additive_combinations, listC, listS):\n",
    "    combination = {\n",
    "        \"C_comb\": c,\n",
    "        \"S_comb\": s,\n",
    "        \"Temperature\": temp,\n",
    "        \"Pressure\": pres,\n",
    "        \"Molar_Feed_Ratio\": mf,\n",
    "        \"Calc_Temperature\": c_temp,\n",
    "        **phase_comb,\n",
    "        **additive_comb\n",
    "    }\n",
    "    all_combinations.append(combination)\n",
    "\n",
    "combinations_df = pd.DataFrame(all_combinations)\n",
    "\n",
    "print(f\"Total number of combinations: {len(all_combinations)}\")\n",
    "\n",
    "combinations_df.to_csv(output_file, index=False)\n",
    "\n",
    "print(f\"Saved as {output_file}\")\n"
   ]
  },
  {
   "cell_type": "code",
   "execution_count": null,
   "id": "1fd1992b",
   "metadata": {},
   "outputs": [],
   "source": []
  },
  {
   "cell_type": "code",
   "execution_count": null,
   "id": "bc04954d",
   "metadata": {},
   "outputs": [],
   "source": []
  },
  {
   "cell_type": "code",
   "execution_count": null,
   "id": "98ad2674",
   "metadata": {},
   "outputs": [],
   "source": []
  },
  {
   "cell_type": "code",
   "execution_count": null,
   "id": "67ae9ec0",
   "metadata": {},
   "outputs": [],
   "source": []
  },
  {
   "cell_type": "code",
   "execution_count": null,
   "id": "e6eaaf65",
   "metadata": {},
   "outputs": [],
   "source": []
  },
  {
   "cell_type": "code",
   "execution_count": null,
   "id": "e2c4469c",
   "metadata": {},
   "outputs": [],
   "source": []
  },
  {
   "cell_type": "code",
   "execution_count": null,
   "id": "a6e0544b",
   "metadata": {},
   "outputs": [],
   "source": []
  },
  {
   "cell_type": "code",
   "execution_count": null,
   "id": "0492b7cb",
   "metadata": {},
   "outputs": [],
   "source": []
  },
  {
   "cell_type": "code",
   "execution_count": null,
   "id": "852997fd",
   "metadata": {},
   "outputs": [],
   "source": []
  },
  {
   "cell_type": "code",
   "execution_count": null,
   "id": "5a216679",
   "metadata": {},
   "outputs": [],
   "source": []
  }
 ],
 "metadata": {
  "kernelspec": {
   "display_name": "Python 3 (ipykernel)",
   "language": "python",
   "name": "python3"
  },
  "language_info": {
   "codemirror_mode": {
    "name": "ipython",
    "version": 3
   },
   "file_extension": ".py",
   "mimetype": "text/x-python",
   "name": "python",
   "nbconvert_exporter": "python",
   "pygments_lexer": "ipython3",
   "version": "3.10.12"
  }
 },
 "nbformat": 4,
 "nbformat_minor": 5
}
